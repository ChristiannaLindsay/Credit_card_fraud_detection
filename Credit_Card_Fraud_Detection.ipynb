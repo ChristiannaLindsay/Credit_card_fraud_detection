{
 "cells": [
  {
   "cell_type": "markdown",
   "id": "826a4e39",
   "metadata": {},
   "source": [
    "## Detecting Credit Card Fraud with a Random Forest Classifier in Python\n",
    "#### Christianna Lindsay"
   ]
  },
  {
   "cell_type": "markdown",
   "id": "2df4ebf2",
   "metadata": {},
   "source": [
    "In this exercise, we will implement a random forest classifier in Python to predict credit card fraud. A random forest is an ensemble learning method that can perform regression or classification. In this case, we want to classify a transaction as 'valid' or 'fraud.' Random forest combines predictions from multiple decision trees to reduce variance and increase the accuracy of predictions.\n",
    "\n",
    "This dataset is from Kaggle (https://www.kaggle.com/datasets/mlg-ulb/creditcardfraud) and contains information on European credit card transactions over a two-day period from September 2013. The features 'V1', ... , 'V28' are numeric principal components obtained from PCA, which were transformed for the sake of maintaining confidentiality. There are also two un-transformed predictors, 'Time' and 'Amount', which are, respectively, the seconds elapsed since the first transaction and the transaction amount. The response variable, 'Class', takes value 0 for a valid transaction and 1 for a fraudulent transaction.\n",
    "\n",
    "The transformation of the numeric variables makes it impossible to interpret the effects of individual variables on the likelihood of a transaction being fraud. We will see that we can still create an effective model to predict fraudulent transactions, but our model would be more interpretable if we had access to the un-transformed predictor variables. "
   ]
  },
  {
   "cell_type": "code",
   "execution_count": 102,
   "id": "da6c5624",
   "metadata": {},
   "outputs": [],
   "source": [
    "# import the necessary packages\n",
    "import numpy as np\n",
    "import pandas as pd\n",
    "import matplotlib.pyplot as plt\n",
    "import seaborn as sns\n",
    "from matplotlib import gridspec\n",
    "from imblearn.under_sampling import RandomUnderSampler\n",
    "from sklearn.model_selection import train_test_split\n",
    "from sklearn.ensemble import RandomForestClassifier\n",
    "from sklearn.metrics import classification_report, accuracy_score \n",
    "from sklearn.metrics import precision_score, recall_score\n",
    "from sklearn.metrics import f1_score, matthews_corrcoef\n",
    "from sklearn.metrics import confusion_matrix"
   ]
  },
  {
   "cell_type": "markdown",
   "id": "da8c8e2c",
   "metadata": {},
   "source": [
    "### Load the Data"
   ]
  },
  {
   "cell_type": "code",
   "execution_count": 4,
   "id": "00985d58",
   "metadata": {},
   "outputs": [],
   "source": [
    "#load the dataset using pandas\n",
    "data = pd.read_csv(\"creditcard.csv\")"
   ]
  },
  {
   "cell_type": "markdown",
   "id": "e76686ff",
   "metadata": {},
   "source": [
    "### View the Data"
   ]
  },
  {
   "cell_type": "code",
   "execution_count": 5,
   "id": "43d948c0",
   "metadata": {
    "scrolled": false
   },
   "outputs": [
    {
     "data": {
      "text/html": [
       "<div>\n",
       "<style scoped>\n",
       "    .dataframe tbody tr th:only-of-type {\n",
       "        vertical-align: middle;\n",
       "    }\n",
       "\n",
       "    .dataframe tbody tr th {\n",
       "        vertical-align: top;\n",
       "    }\n",
       "\n",
       "    .dataframe thead th {\n",
       "        text-align: right;\n",
       "    }\n",
       "</style>\n",
       "<table border=\"1\" class=\"dataframe\">\n",
       "  <thead>\n",
       "    <tr style=\"text-align: right;\">\n",
       "      <th></th>\n",
       "      <th>Time</th>\n",
       "      <th>V1</th>\n",
       "      <th>V2</th>\n",
       "      <th>V3</th>\n",
       "      <th>V4</th>\n",
       "      <th>V5</th>\n",
       "      <th>V6</th>\n",
       "      <th>V7</th>\n",
       "      <th>V8</th>\n",
       "      <th>V9</th>\n",
       "      <th>...</th>\n",
       "      <th>V21</th>\n",
       "      <th>V22</th>\n",
       "      <th>V23</th>\n",
       "      <th>V24</th>\n",
       "      <th>V25</th>\n",
       "      <th>V26</th>\n",
       "      <th>V27</th>\n",
       "      <th>V28</th>\n",
       "      <th>Amount</th>\n",
       "      <th>Class</th>\n",
       "    </tr>\n",
       "  </thead>\n",
       "  <tbody>\n",
       "    <tr>\n",
       "      <th>0</th>\n",
       "      <td>0.0</td>\n",
       "      <td>-1.359807</td>\n",
       "      <td>-0.072781</td>\n",
       "      <td>2.536347</td>\n",
       "      <td>1.378155</td>\n",
       "      <td>-0.338321</td>\n",
       "      <td>0.462388</td>\n",
       "      <td>0.239599</td>\n",
       "      <td>0.098698</td>\n",
       "      <td>0.363787</td>\n",
       "      <td>...</td>\n",
       "      <td>-0.018307</td>\n",
       "      <td>0.277838</td>\n",
       "      <td>-0.110474</td>\n",
       "      <td>0.066928</td>\n",
       "      <td>0.128539</td>\n",
       "      <td>-0.189115</td>\n",
       "      <td>0.133558</td>\n",
       "      <td>-0.021053</td>\n",
       "      <td>149.62</td>\n",
       "      <td>0</td>\n",
       "    </tr>\n",
       "    <tr>\n",
       "      <th>1</th>\n",
       "      <td>0.0</td>\n",
       "      <td>1.191857</td>\n",
       "      <td>0.266151</td>\n",
       "      <td>0.166480</td>\n",
       "      <td>0.448154</td>\n",
       "      <td>0.060018</td>\n",
       "      <td>-0.082361</td>\n",
       "      <td>-0.078803</td>\n",
       "      <td>0.085102</td>\n",
       "      <td>-0.255425</td>\n",
       "      <td>...</td>\n",
       "      <td>-0.225775</td>\n",
       "      <td>-0.638672</td>\n",
       "      <td>0.101288</td>\n",
       "      <td>-0.339846</td>\n",
       "      <td>0.167170</td>\n",
       "      <td>0.125895</td>\n",
       "      <td>-0.008983</td>\n",
       "      <td>0.014724</td>\n",
       "      <td>2.69</td>\n",
       "      <td>0</td>\n",
       "    </tr>\n",
       "    <tr>\n",
       "      <th>2</th>\n",
       "      <td>1.0</td>\n",
       "      <td>-1.358354</td>\n",
       "      <td>-1.340163</td>\n",
       "      <td>1.773209</td>\n",
       "      <td>0.379780</td>\n",
       "      <td>-0.503198</td>\n",
       "      <td>1.800499</td>\n",
       "      <td>0.791461</td>\n",
       "      <td>0.247676</td>\n",
       "      <td>-1.514654</td>\n",
       "      <td>...</td>\n",
       "      <td>0.247998</td>\n",
       "      <td>0.771679</td>\n",
       "      <td>0.909412</td>\n",
       "      <td>-0.689281</td>\n",
       "      <td>-0.327642</td>\n",
       "      <td>-0.139097</td>\n",
       "      <td>-0.055353</td>\n",
       "      <td>-0.059752</td>\n",
       "      <td>378.66</td>\n",
       "      <td>0</td>\n",
       "    </tr>\n",
       "    <tr>\n",
       "      <th>3</th>\n",
       "      <td>1.0</td>\n",
       "      <td>-0.966272</td>\n",
       "      <td>-0.185226</td>\n",
       "      <td>1.792993</td>\n",
       "      <td>-0.863291</td>\n",
       "      <td>-0.010309</td>\n",
       "      <td>1.247203</td>\n",
       "      <td>0.237609</td>\n",
       "      <td>0.377436</td>\n",
       "      <td>-1.387024</td>\n",
       "      <td>...</td>\n",
       "      <td>-0.108300</td>\n",
       "      <td>0.005274</td>\n",
       "      <td>-0.190321</td>\n",
       "      <td>-1.175575</td>\n",
       "      <td>0.647376</td>\n",
       "      <td>-0.221929</td>\n",
       "      <td>0.062723</td>\n",
       "      <td>0.061458</td>\n",
       "      <td>123.50</td>\n",
       "      <td>0</td>\n",
       "    </tr>\n",
       "    <tr>\n",
       "      <th>4</th>\n",
       "      <td>2.0</td>\n",
       "      <td>-1.158233</td>\n",
       "      <td>0.877737</td>\n",
       "      <td>1.548718</td>\n",
       "      <td>0.403034</td>\n",
       "      <td>-0.407193</td>\n",
       "      <td>0.095921</td>\n",
       "      <td>0.592941</td>\n",
       "      <td>-0.270533</td>\n",
       "      <td>0.817739</td>\n",
       "      <td>...</td>\n",
       "      <td>-0.009431</td>\n",
       "      <td>0.798278</td>\n",
       "      <td>-0.137458</td>\n",
       "      <td>0.141267</td>\n",
       "      <td>-0.206010</td>\n",
       "      <td>0.502292</td>\n",
       "      <td>0.219422</td>\n",
       "      <td>0.215153</td>\n",
       "      <td>69.99</td>\n",
       "      <td>0</td>\n",
       "    </tr>\n",
       "  </tbody>\n",
       "</table>\n",
       "<p>5 rows × 31 columns</p>\n",
       "</div>"
      ],
      "text/plain": [
       "   Time        V1        V2        V3        V4        V5        V6        V7  \\\n",
       "0   0.0 -1.359807 -0.072781  2.536347  1.378155 -0.338321  0.462388  0.239599   \n",
       "1   0.0  1.191857  0.266151  0.166480  0.448154  0.060018 -0.082361 -0.078803   \n",
       "2   1.0 -1.358354 -1.340163  1.773209  0.379780 -0.503198  1.800499  0.791461   \n",
       "3   1.0 -0.966272 -0.185226  1.792993 -0.863291 -0.010309  1.247203  0.237609   \n",
       "4   2.0 -1.158233  0.877737  1.548718  0.403034 -0.407193  0.095921  0.592941   \n",
       "\n",
       "         V8        V9  ...       V21       V22       V23       V24       V25  \\\n",
       "0  0.098698  0.363787  ... -0.018307  0.277838 -0.110474  0.066928  0.128539   \n",
       "1  0.085102 -0.255425  ... -0.225775 -0.638672  0.101288 -0.339846  0.167170   \n",
       "2  0.247676 -1.514654  ...  0.247998  0.771679  0.909412 -0.689281 -0.327642   \n",
       "3  0.377436 -1.387024  ... -0.108300  0.005274 -0.190321 -1.175575  0.647376   \n",
       "4 -0.270533  0.817739  ... -0.009431  0.798278 -0.137458  0.141267 -0.206010   \n",
       "\n",
       "        V26       V27       V28  Amount  Class  \n",
       "0 -0.189115  0.133558 -0.021053  149.62      0  \n",
       "1  0.125895 -0.008983  0.014724    2.69      0  \n",
       "2 -0.139097 -0.055353 -0.059752  378.66      0  \n",
       "3 -0.221929  0.062723  0.061458  123.50      0  \n",
       "4  0.502292  0.219422  0.215153   69.99      0  \n",
       "\n",
       "[5 rows x 31 columns]"
      ]
     },
     "execution_count": 5,
     "metadata": {},
     "output_type": "execute_result"
    }
   ],
   "source": [
    "data.head()"
   ]
  },
  {
   "cell_type": "markdown",
   "id": "019057c4",
   "metadata": {},
   "source": [
    "### Understand the Data"
   ]
  },
  {
   "cell_type": "markdown",
   "id": "6c7a2ccb",
   "metadata": {},
   "source": [
    "From the following output we see that we have 284,807 transactions with 31 total variables. All of the predictor variables are numeric."
   ]
  },
  {
   "cell_type": "code",
   "execution_count": 6,
   "id": "83c305ae",
   "metadata": {},
   "outputs": [
    {
     "name": "stdout",
     "output_type": "stream",
     "text": [
      "(284807, 31)\n",
      "                Time            V1            V2            V3            V4  \\\n",
      "count  284807.000000  2.848070e+05  2.848070e+05  2.848070e+05  2.848070e+05   \n",
      "mean    94813.859575  1.168375e-15  3.416908e-16 -1.379537e-15  2.074095e-15   \n",
      "std     47488.145955  1.958696e+00  1.651309e+00  1.516255e+00  1.415869e+00   \n",
      "min         0.000000 -5.640751e+01 -7.271573e+01 -4.832559e+01 -5.683171e+00   \n",
      "25%     54201.500000 -9.203734e-01 -5.985499e-01 -8.903648e-01 -8.486401e-01   \n",
      "50%     84692.000000  1.810880e-02  6.548556e-02  1.798463e-01 -1.984653e-02   \n",
      "75%    139320.500000  1.315642e+00  8.037239e-01  1.027196e+00  7.433413e-01   \n",
      "max    172792.000000  2.454930e+00  2.205773e+01  9.382558e+00  1.687534e+01   \n",
      "\n",
      "                 V5            V6            V7            V8            V9  \\\n",
      "count  2.848070e+05  2.848070e+05  2.848070e+05  2.848070e+05  2.848070e+05   \n",
      "mean   9.604066e-16  1.487313e-15 -5.556467e-16  1.213481e-16 -2.406331e-15   \n",
      "std    1.380247e+00  1.332271e+00  1.237094e+00  1.194353e+00  1.098632e+00   \n",
      "min   -1.137433e+02 -2.616051e+01 -4.355724e+01 -7.321672e+01 -1.343407e+01   \n",
      "25%   -6.915971e-01 -7.682956e-01 -5.540759e-01 -2.086297e-01 -6.430976e-01   \n",
      "50%   -5.433583e-02 -2.741871e-01  4.010308e-02  2.235804e-02 -5.142873e-02   \n",
      "75%    6.119264e-01  3.985649e-01  5.704361e-01  3.273459e-01  5.971390e-01   \n",
      "max    3.480167e+01  7.330163e+01  1.205895e+02  2.000721e+01  1.559499e+01   \n",
      "\n",
      "       ...           V21           V22           V23           V24  \\\n",
      "count  ...  2.848070e+05  2.848070e+05  2.848070e+05  2.848070e+05   \n",
      "mean   ...  1.654067e-16 -3.568593e-16  2.578648e-16  4.473266e-15   \n",
      "std    ...  7.345240e-01  7.257016e-01  6.244603e-01  6.056471e-01   \n",
      "min    ... -3.483038e+01 -1.093314e+01 -4.480774e+01 -2.836627e+00   \n",
      "25%    ... -2.283949e-01 -5.423504e-01 -1.618463e-01 -3.545861e-01   \n",
      "50%    ... -2.945017e-02  6.781943e-03 -1.119293e-02  4.097606e-02   \n",
      "75%    ...  1.863772e-01  5.285536e-01  1.476421e-01  4.395266e-01   \n",
      "max    ...  2.720284e+01  1.050309e+01  2.252841e+01  4.584549e+00   \n",
      "\n",
      "                V25           V26           V27           V28         Amount  \\\n",
      "count  2.848070e+05  2.848070e+05  2.848070e+05  2.848070e+05  284807.000000   \n",
      "mean   5.340915e-16  1.683437e-15 -3.660091e-16 -1.227390e-16      88.349619   \n",
      "std    5.212781e-01  4.822270e-01  4.036325e-01  3.300833e-01     250.120109   \n",
      "min   -1.029540e+01 -2.604551e+00 -2.256568e+01 -1.543008e+01       0.000000   \n",
      "25%   -3.171451e-01 -3.269839e-01 -7.083953e-02 -5.295979e-02       5.600000   \n",
      "50%    1.659350e-02 -5.213911e-02  1.342146e-03  1.124383e-02      22.000000   \n",
      "75%    3.507156e-01  2.409522e-01  9.104512e-02  7.827995e-02      77.165000   \n",
      "max    7.519589e+00  3.517346e+00  3.161220e+01  3.384781e+01   25691.160000   \n",
      "\n",
      "               Class  \n",
      "count  284807.000000  \n",
      "mean        0.001727  \n",
      "std         0.041527  \n",
      "min         0.000000  \n",
      "25%         0.000000  \n",
      "50%         0.000000  \n",
      "75%         0.000000  \n",
      "max         1.000000  \n",
      "\n",
      "[8 rows x 31 columns]\n"
     ]
    }
   ],
   "source": [
    "print(data.shape)\n",
    "print(data.describe())"
   ]
  },
  {
   "cell_type": "markdown",
   "id": "c5c566fd",
   "metadata": {},
   "source": [
    "Before we train our model, it's a good idea to assess how balanced our data set is -- that is, what proportion of the transactions are fraudulent vs. valid."
   ]
  },
  {
   "cell_type": "code",
   "execution_count": 19,
   "id": "485bed93",
   "metadata": {},
   "outputs": [
    {
     "name": "stdout",
     "output_type": "stream",
     "text": [
      "Number of fraud cases: 492\n",
      "Number of valid transactions: 284315\n",
      "Percent of fraud cases: 0.17304750013189596%\n"
     ]
    }
   ],
   "source": [
    "fraud = data[data['Class']==1]\n",
    "not_fraud = data[data['Class']==0]\n",
    "fraud_fraction = len(fraud)/float(len(not_fraud))\n",
    "print('Number of fraud cases: {}'.format(len(data[data['Class'] == 1])))\n",
    "print('Number of valid transactions: {}'.format(len(data[data['Class'] == 0])))\n",
    "print(\"Percent of fraud cases: {}\".format(fraud_fraction*100)+\"%\")"
   ]
  },
  {
   "cell_type": "markdown",
   "id": "a4968c83",
   "metadata": {},
   "source": [
    "We see that only 0.17% of the transactions are fraud, which means we have an incredibly imbalanced data set. This is a problem because a machine learning technique might acheive a high accuracy rate by simply ignoring the minority class (the fraud cases). For instance, we could create a model achieving 99.83% accuracy by simply predicting that every transaction is valid. Unfortunately, that would be a rather useless model because we care most acutely about the 0.17% of transactions which are fraud. "
   ]
  },
  {
   "cell_type": "markdown",
   "id": "ce214b1a",
   "metadata": {},
   "source": [
    "### Achieve Balance by Undersampling"
   ]
  },
  {
   "cell_type": "markdown",
   "id": "fdba982d",
   "metadata": {},
   "source": [
    "To remedy this problem, we will perform weighted resampling to obtain a more balanced data set in terms of the valid vs. fraudulent cases, and therefore create a model that is better at predicting fraud. Specifically, we will apply a technique called undersampling, where we select a random subset of the valid transactions to keep, so there are an equal number of valid and fraudulent cases."
   ]
  },
  {
   "cell_type": "markdown",
   "id": "7d8bfdf2",
   "metadata": {},
   "source": [
    "Before we balance the dataset, we'll divide it into an 80-20 training-testing split."
   ]
  },
  {
   "cell_type": "code",
   "execution_count": 64,
   "id": "c9f0af9d",
   "metadata": {},
   "outputs": [],
   "source": [
    "# Categorize variables as X or y\n",
    "X = data.drop('Class', axis=1) #predictors\n",
    "y = data['Class'] #response variable\n",
    "\n",
    "# Divide the dataset into training and testing sets\n",
    "X_train, X_test, y_train, y_test = train_test_split(X, y, stratify=y, shuffle=True, test_size=0.2)"
   ]
  },
  {
   "cell_type": "markdown",
   "id": "9bd46963",
   "metadata": {},
   "source": [
    "Next we can create a RandomUnderSampler object and apply the fit_resample function to create a balanced dataset."
   ]
  },
  {
   "cell_type": "code",
   "execution_count": 65,
   "id": "42a378db",
   "metadata": {},
   "outputs": [],
   "source": [
    "RUS = RandomUnderSampler(random_state=25, sampling_strategy='majority')\n",
    "X_train_resampled, y_train_resampled = RUS.fit_resample(X_train, y_train)"
   ]
  },
  {
   "cell_type": "code",
   "execution_count": 66,
   "id": "1bdcbd33",
   "metadata": {
    "scrolled": true
   },
   "outputs": [
    {
     "name": "stdout",
     "output_type": "stream",
     "text": [
      "Percent of fraud cases in resampled testing set: 50.0%\n"
     ]
    }
   ],
   "source": [
    "train_fraud_frac = sum(y_train_resampled==0)/len(y_train_resampled)\n",
    "print(\"Percent of fraud cases in resampled testing set: {}\".format(train_fraud_frac*100)+\"%\")"
   ]
  },
  {
   "cell_type": "markdown",
   "id": "b9370492",
   "metadata": {},
   "source": [
    "The resampled training set now contains 50% fraud and 50% valid cases. The testing set was not undersampled because we want it to reflect the true proportion of valid vs. fraud cases."
   ]
  },
  {
   "cell_type": "markdown",
   "id": "b8966840",
   "metadata": {},
   "source": [
    "### Build the Random Forest Model"
   ]
  },
  {
   "cell_type": "code",
   "execution_count": 89,
   "id": "5e0d05b3",
   "metadata": {},
   "outputs": [],
   "source": [
    "rf = RandomForestClassifier()\n",
    "rf.fit(X_train_resampled, y_train_resampled)\n",
    "y_pred = rf.predict(X_test)"
   ]
  },
  {
   "cell_type": "markdown",
   "id": "740f1fb0",
   "metadata": {},
   "source": [
    "### Evaluate the Model"
   ]
  },
  {
   "cell_type": "markdown",
   "id": "642c7f4a",
   "metadata": {},
   "source": [
    "To evaluate the performance of our model, we'll consider several metrics--specifically, the accuracy, precision, recall, and F1 score."
   ]
  },
  {
   "cell_type": "code",
   "execution_count": 100,
   "id": "982f9ef5",
   "metadata": {},
   "outputs": [
    {
     "name": "stdout",
     "output_type": "stream",
     "text": [
      "Random Forest Classifier (Balanced Training Set)\n",
      "Accuracy: 0.9724728766546118\n",
      "Precision: 0.05562273276904474\n",
      "Recall: 0.9387755102040817\n"
     ]
    }
   ],
   "source": [
    "num_fraud = len(fraud)\n",
    "num_errors = (y_pred != y_test).sum()\n",
    "print(\"Random Forest Classifier (Balanced Training Set)\")\n",
    "\n",
    "accuracy = accuracy_score(y_test, y_pred)\n",
    "print(\"Accuracy: {}\".format(accuracy))\n",
    "\n",
    "precision = precision_score(y_test, y_pred)\n",
    "print(\"Precision: {}\".format(precision))\n",
    "\n",
    "recall = recall_score(y_test, y_pred)\n",
    "print(\"Recall: {}\".format(recall))"
   ]
  },
  {
   "cell_type": "markdown",
   "id": "30f4b966",
   "metadata": {},
   "source": [
    "Accuracy is the number of correct classifications divided by the total number of classifications.\n",
    "\n",
    "Precision is the correctly classified actual positives divided by the everything classified as positive.\n",
    "\n",
    "Recall is the correctly classified actual positives divided by all actual positives. In this case, we care more about recall, since we really want to catch all of the positive cases of fraud."
   ]
  },
  {
   "cell_type": "markdown",
   "id": "8b9cdc57",
   "metadata": {},
   "source": [
    "Let's look at a confusion matrix to more easily visualize where the misclassifications are happening. Note that the diagonals are correct classifications, while the off-diagonals are the misclassifications."
   ]
  },
  {
   "cell_type": "code",
   "execution_count": 93,
   "id": "5b351379",
   "metadata": {
    "scrolled": true
   },
   "outputs": [
    {
     "data": {
      "image/png": "[encoded data removed]",
      "text/plain": [
       "<Figure size 1200x1200 with 2 Axes>"
      ]
     },
     "metadata": {},
     "output_type": "display_data"
    }
   ],
   "source": [
    "#confusion matrix\n",
    "LABELS = ['Normal', 'Fraud']\n",
    "conf_matrix = confusion_matrix(y_test, y_pred)\n",
    "plt.figure(figsize =(12, 12))\n",
    "sns.heatmap(conf_matrix, xticklabels = LABELS, \n",
    "            yticklabels = LABELS, annot = True, fmt =\"d\");\n",
    "plt.title(\"Confusion matrix\")\n",
    "plt.ylabel('True class')\n",
    "plt.xlabel('Predicted class')\n",
    "plt.show()"
   ]
  },
  {
   "cell_type": "markdown",
   "id": "4f7499aa",
   "metadata": {},
   "source": [
    "We see that most of the misclassifications are false positives. In fact, the vast majority of the cases classified as fraud are false positives (this is the precision)."
   ]
  },
  {
   "cell_type": "markdown",
   "id": "5f7881ce",
   "metadata": {},
   "source": [
    "### Compare with Performance on the Imbalanced Dataset"
   ]
  },
  {
   "cell_type": "markdown",
   "id": "ef33260a",
   "metadata": {},
   "source": [
    "For the sake of comparison, let's rerun our random forest classifier, but without undersampling the training set first."
   ]
  },
  {
   "cell_type": "code",
   "execution_count": 94,
   "id": "298665c2",
   "metadata": {},
   "outputs": [],
   "source": [
    "rf_imb = RandomForestClassifier()\n",
    "rf_imb.fit(X_train, y_train)\n",
    "y_pred_imb = rf_imb.predict(X_test)"
   ]
  },
  {
   "cell_type": "markdown",
   "id": "2ed00f29",
   "metadata": {},
   "source": [
    "This time the model takes significantly longer to train, since we are using the 80% of the full dataset for training, rather than 80% of the undersampled dataset."
   ]
  },
  {
   "cell_type": "code",
   "execution_count": 103,
   "id": "a2e1bb0a",
   "metadata": {},
   "outputs": [
    {
     "name": "stdout",
     "output_type": "stream",
     "text": [
      "Random Forest Classifier (Imbalanced Training Set):\n",
      "Accuracy: 0.9996313331694814\n",
      "Precision: 0.9753086419753086\n",
      "Recall: 0.8061224489795918\n",
      "F1-Score: 0.88268156424581\n"
     ]
    }
   ],
   "source": [
    "num_fraud = len(fraud)\n",
    "num_errors = (y_pred_imb != y_test).sum()\n",
    "print(\"Random Forest Classifier (Imbalanced Training Set):\")\n",
    "\n",
    "accuracy = accuracy_score(y_test, y_pred_imb)\n",
    "print(\"Accuracy: {}\".format(accuracy))\n",
    "\n",
    "precision = precision_score(y_test, y_pred_imb)\n",
    "print(\"Precision: {}\".format(precision))\n",
    "\n",
    "recall = recall_score(y_test, y_pred_imb)\n",
    "print(\"Recall: {}\".format(recall))\n",
    "\n",
    "f1 = f1_score(y_test, y_pred_imb)\n",
    "print(\"F1-Score: {}\".format(f1))"
   ]
  },
  {
   "cell_type": "code",
   "execution_count": 99,
   "id": "0be4a937",
   "metadata": {
    "scrolled": true
   },
   "outputs": [
    {
     "data": {
      "image/png": "[encoded data removed]",
      "text/plain": [
       "<Figure size 1200x1200 with 2 Axes>"
      ]
     },
     "metadata": {},
     "output_type": "display_data"
    }
   ],
   "source": [
    "#confusion matrix\n",
    "LABELS = ['Normal', 'Fraud']\n",
    "conf_matrix = confusion_matrix(y_test, y_pred_imb)\n",
    "plt.figure(figsize =(12, 12))\n",
    "sns.heatmap(conf_matrix, xticklabels = LABELS, \n",
    "            yticklabels = LABELS, annot = True, fmt =\"d\");\n",
    "plt.title(\"Confusion matrix\")\n",
    "plt.ylabel('True class')\n",
    "plt.xlabel('Predicted class')\n",
    "plt.show()"
   ]
  },
  {
   "cell_type": "markdown",
   "id": "a3002f6b",
   "metadata": {},
   "source": [
    "While the total accuracy increases using the full dataset (from 97.24% to 99.96%), and the precision increases dramatically (from 5.56% to 97.53%), the recall also decreases substantially (from 93.88% to 80.61%). What this means is that the model trained on the balanced dataset is better at catching the fraud cases but it's also worse about flagging false positives. Depending on how expensive false positives are versus false negatives, a credit card company may prefer one model over the other."
   ]
  }
 ],
 "metadata": {
  "kernelspec": {
   "display_name": "Python 3 (ipykernel)",
   "language": "python",
   "name": "python3"
  },
  "language_info": {
   "codemirror_mode": {
    "name": "ipython",
    "version": 3
   },
   "file_extension": ".py",
   "mimetype": "text/x-python",
   "name": "python",
   "nbconvert_exporter": "python",
   "pygments_lexer": "ipython3",
   "version": "3.11.5"
  }
 },
 "nbformat": 4,
 "nbformat_minor": 5
}
